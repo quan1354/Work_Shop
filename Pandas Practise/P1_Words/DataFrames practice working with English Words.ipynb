{
 "cells": [
  {
   "cell_type": "code",
   "execution_count": 2,
   "id": "77bb8152-fd6e-45b5-9097-8c2fd4887054",
   "metadata": {},
   "outputs": [],
   "source": [
    "import pandas as pd"
   ]
  },
  {
   "cell_type": "code",
   "execution_count": 3,
   "id": "0656aeb9-9c0b-437e-9a48-259d9e9c1344",
   "metadata": {},
   "outputs": [],
   "source": [
    "df = pd.read_csv('words.csv', index_col='Word')"
   ]
  },
  {
   "cell_type": "code",
   "execution_count": 4,
   "id": "a54007b6-5220-4ba2-b5ba-0bdad9b0158f",
   "metadata": {},
   "outputs": [
    {
     "data": {
      "text/html": [
       "<div>\n",
       "<style scoped>\n",
       "    .dataframe tbody tr th:only-of-type {\n",
       "        vertical-align: middle;\n",
       "    }\n",
       "\n",
       "    .dataframe tbody tr th {\n",
       "        vertical-align: top;\n",
       "    }\n",
       "\n",
       "    .dataframe thead th {\n",
       "        text-align: right;\n",
       "    }\n",
       "</style>\n",
       "<table border=\"1\" class=\"dataframe\">\n",
       "  <thead>\n",
       "    <tr style=\"text-align: right;\">\n",
       "      <th></th>\n",
       "      <th>Char Count</th>\n",
       "      <th>Value</th>\n",
       "    </tr>\n",
       "    <tr>\n",
       "      <th>Word</th>\n",
       "      <th></th>\n",
       "      <th></th>\n",
       "    </tr>\n",
       "  </thead>\n",
       "  <tbody>\n",
       "    <tr>\n",
       "      <th>aa</th>\n",
       "      <td>2</td>\n",
       "      <td>2</td>\n",
       "    </tr>\n",
       "    <tr>\n",
       "      <th>aah</th>\n",
       "      <td>3</td>\n",
       "      <td>10</td>\n",
       "    </tr>\n",
       "    <tr>\n",
       "      <th>aahed</th>\n",
       "      <td>5</td>\n",
       "      <td>19</td>\n",
       "    </tr>\n",
       "    <tr>\n",
       "      <th>aahing</th>\n",
       "      <td>6</td>\n",
       "      <td>40</td>\n",
       "    </tr>\n",
       "    <tr>\n",
       "      <th>aahs</th>\n",
       "      <td>4</td>\n",
       "      <td>29</td>\n",
       "    </tr>\n",
       "  </tbody>\n",
       "</table>\n",
       "</div>"
      ],
      "text/plain": [
       "        Char Count  Value\n",
       "Word                     \n",
       "aa               2      2\n",
       "aah              3     10\n",
       "aahed            5     19\n",
       "aahing           6     40\n",
       "aahs             4     29"
      ]
     },
     "execution_count": 4,
     "metadata": {},
     "output_type": "execute_result"
    }
   ],
   "source": [
    "df.head()"
   ]
  },
  {
   "cell_type": "markdown",
   "id": "98f7857a-5363-4349-b072-83c6a91bcf0f",
   "metadata": {},
   "source": [
    "### Activities"
   ]
  },
  {
   "cell_type": "markdown",
   "id": "699e5638-a370-4130-9654-0958f72b2fa1",
   "metadata": {},
   "source": [
    "##### How many elements does this dataframe have?"
   ]
  },
  {
   "cell_type": "code",
   "execution_count": 6,
   "id": "faf85418-b70c-4040-b1fb-67fda3d04d4e",
   "metadata": {},
   "outputs": [
    {
     "data": {
      "text/plain": [
       "(172821, 2)"
      ]
     },
     "execution_count": 6,
     "metadata": {},
     "output_type": "execute_result"
    }
   ],
   "source": [
    "df.shape\n",
    "df.info()"
   ]
  },
  {
   "cell_type": "markdown",
   "id": "3efb2b4d-55a7-4c39-8124-c2bce42fb1e0",
   "metadata": {},
   "source": [
    "##### What is the value of the word `microspectrophotometries`?"
   ]
  },
  {
   "cell_type": "code",
   "execution_count": 7,
   "id": "4e1f235b-e93c-47fd-8e07-c97caea873c6",
   "metadata": {},
   "outputs": [
    {
     "data": {
      "text/plain": [
       "317"
      ]
     },
     "execution_count": 7,
     "metadata": {},
     "output_type": "execute_result"
    }
   ],
   "source": [
    "df.loc['microspectrophotometries', 'Value']"
   ]
  },
  {
   "cell_type": "markdown",
   "id": "8dec0844-9bbe-4e58-ba15-4d4fa017e9cb",
   "metadata": {},
   "source": [
    "##### What is the highest possible value of a word?"
   ]
  },
  {
   "cell_type": "code",
   "execution_count": 8,
   "id": "4ce2d9b4-3680-48c1-a92c-00f7d6d4b069",
   "metadata": {},
   "outputs": [
    {
     "data": {
      "text/html": [
       "<div>\n",
       "<style scoped>\n",
       "    .dataframe tbody tr th:only-of-type {\n",
       "        vertical-align: middle;\n",
       "    }\n",
       "\n",
       "    .dataframe tbody tr th {\n",
       "        vertical-align: top;\n",
       "    }\n",
       "\n",
       "    .dataframe thead th {\n",
       "        text-align: right;\n",
       "    }\n",
       "</style>\n",
       "<table border=\"1\" class=\"dataframe\">\n",
       "  <thead>\n",
       "    <tr style=\"text-align: right;\">\n",
       "      <th></th>\n",
       "      <th>Char Count</th>\n",
       "      <th>Value</th>\n",
       "    </tr>\n",
       "  </thead>\n",
       "  <tbody>\n",
       "    <tr>\n",
       "      <th>count</th>\n",
       "      <td>172821.000000</td>\n",
       "      <td>172821.000000</td>\n",
       "    </tr>\n",
       "    <tr>\n",
       "      <th>mean</th>\n",
       "      <td>9.087628</td>\n",
       "      <td>107.754179</td>\n",
       "    </tr>\n",
       "    <tr>\n",
       "      <th>std</th>\n",
       "      <td>2.818285</td>\n",
       "      <td>39.317452</td>\n",
       "    </tr>\n",
       "    <tr>\n",
       "      <th>min</th>\n",
       "      <td>2.000000</td>\n",
       "      <td>2.000000</td>\n",
       "    </tr>\n",
       "    <tr>\n",
       "      <th>25%</th>\n",
       "      <td>7.000000</td>\n",
       "      <td>80.000000</td>\n",
       "    </tr>\n",
       "    <tr>\n",
       "      <th>50%</th>\n",
       "      <td>9.000000</td>\n",
       "      <td>103.000000</td>\n",
       "    </tr>\n",
       "    <tr>\n",
       "      <th>75%</th>\n",
       "      <td>11.000000</td>\n",
       "      <td>131.000000</td>\n",
       "    </tr>\n",
       "    <tr>\n",
       "      <th>max</th>\n",
       "      <td>28.000000</td>\n",
       "      <td>319.000000</td>\n",
       "    </tr>\n",
       "  </tbody>\n",
       "</table>\n",
       "</div>"
      ],
      "text/plain": [
       "          Char Count          Value\n",
       "count  172821.000000  172821.000000\n",
       "mean        9.087628     107.754179\n",
       "std         2.818285      39.317452\n",
       "min         2.000000       2.000000\n",
       "25%         7.000000      80.000000\n",
       "50%         9.000000     103.000000\n",
       "75%        11.000000     131.000000\n",
       "max        28.000000     319.000000"
      ]
     },
     "execution_count": 8,
     "metadata": {},
     "output_type": "execute_result"
    }
   ],
   "source": [
    "df.describe()\n",
    "df.max()\n",
    "df['Value'].max()"
   ]
  },
  {
   "cell_type": "markdown",
   "id": "8728dc3d-0a90-4562-947d-01674a7fe5b3",
   "metadata": {},
   "source": [
    "##### Which of the following words have a Char Count of `7` and a Value of `87`?"
   ]
  },
  {
   "cell_type": "code",
   "execution_count": 13,
   "id": "aebe41eb-b852-4cbc-99ea-716f36face73",
   "metadata": {},
   "outputs": [
    {
     "data": {
      "text/html": [
       "<div>\n",
       "<style scoped>\n",
       "    .dataframe tbody tr th:only-of-type {\n",
       "        vertical-align: middle;\n",
       "    }\n",
       "\n",
       "    .dataframe tbody tr th {\n",
       "        vertical-align: top;\n",
       "    }\n",
       "\n",
       "    .dataframe thead th {\n",
       "        text-align: right;\n",
       "    }\n",
       "</style>\n",
       "<table border=\"1\" class=\"dataframe\">\n",
       "  <thead>\n",
       "    <tr style=\"text-align: right;\">\n",
       "      <th></th>\n",
       "      <th>Value</th>\n",
       "      <th>Char Count</th>\n",
       "    </tr>\n",
       "    <tr>\n",
       "      <th>Word</th>\n",
       "      <th></th>\n",
       "      <th></th>\n",
       "    </tr>\n",
       "  </thead>\n",
       "  <tbody>\n",
       "    <tr>\n",
       "      <th>glowing</th>\n",
       "      <td>87</td>\n",
       "      <td>7</td>\n",
       "    </tr>\n",
       "    <tr>\n",
       "      <th>pinfish</th>\n",
       "      <td>81</td>\n",
       "      <td>7</td>\n",
       "    </tr>\n",
       "    <tr>\n",
       "      <th>superheterodyne</th>\n",
       "      <td>198</td>\n",
       "      <td>15</td>\n",
       "    </tr>\n",
       "    <tr>\n",
       "      <th>microbrew</th>\n",
       "      <td>106</td>\n",
       "      <td>9</td>\n",
       "    </tr>\n",
       "    <tr>\n",
       "      <th>enfold</th>\n",
       "      <td>56</td>\n",
       "      <td>6</td>\n",
       "    </tr>\n",
       "  </tbody>\n",
       "</table>\n",
       "</div>"
      ],
      "text/plain": [
       "                 Value  Char Count\n",
       "Word                              \n",
       "glowing             87           7\n",
       "pinfish             81           7\n",
       "superheterodyne    198          15\n",
       "microbrew          106           9\n",
       "enfold              56           6"
      ]
     },
     "execution_count": 13,
     "metadata": {},
     "output_type": "execute_result"
    }
   ],
   "source": [
    "df.loc[[\n",
    "    \"glowing\",\n",
    "    \"pinfish\",\n",
    "    \"superheterodyne\",\n",
    "    \"microbrew\",\n",
    "    \"enfold\"\n",
    "], ['Value', 'Char Count' ]]"
   ]
  },
  {
   "cell_type": "markdown",
   "id": "9f06056e-7873-43e4-9f05-6d7848ef7356",
   "metadata": {},
   "source": [
    "##### What is the highest possible length of a word?"
   ]
  },
  {
   "cell_type": "code",
   "execution_count": 14,
   "id": "560f9a7e-a4e3-4c90-b3ae-8f3ba11cdc16",
   "metadata": {},
   "outputs": [
    {
     "data": {
      "text/html": [
       "<div>\n",
       "<style scoped>\n",
       "    .dataframe tbody tr th:only-of-type {\n",
       "        vertical-align: middle;\n",
       "    }\n",
       "\n",
       "    .dataframe tbody tr th {\n",
       "        vertical-align: top;\n",
       "    }\n",
       "\n",
       "    .dataframe thead th {\n",
       "        text-align: right;\n",
       "    }\n",
       "</style>\n",
       "<table border=\"1\" class=\"dataframe\">\n",
       "  <thead>\n",
       "    <tr style=\"text-align: right;\">\n",
       "      <th></th>\n",
       "      <th>Char Count</th>\n",
       "      <th>Value</th>\n",
       "    </tr>\n",
       "  </thead>\n",
       "  <tbody>\n",
       "    <tr>\n",
       "      <th>count</th>\n",
       "      <td>172821.000000</td>\n",
       "      <td>172821.000000</td>\n",
       "    </tr>\n",
       "    <tr>\n",
       "      <th>mean</th>\n",
       "      <td>9.087628</td>\n",
       "      <td>107.754179</td>\n",
       "    </tr>\n",
       "    <tr>\n",
       "      <th>std</th>\n",
       "      <td>2.818285</td>\n",
       "      <td>39.317452</td>\n",
       "    </tr>\n",
       "    <tr>\n",
       "      <th>min</th>\n",
       "      <td>2.000000</td>\n",
       "      <td>2.000000</td>\n",
       "    </tr>\n",
       "    <tr>\n",
       "      <th>25%</th>\n",
       "      <td>7.000000</td>\n",
       "      <td>80.000000</td>\n",
       "    </tr>\n",
       "    <tr>\n",
       "      <th>50%</th>\n",
       "      <td>9.000000</td>\n",
       "      <td>103.000000</td>\n",
       "    </tr>\n",
       "    <tr>\n",
       "      <th>75%</th>\n",
       "      <td>11.000000</td>\n",
       "      <td>131.000000</td>\n",
       "    </tr>\n",
       "    <tr>\n",
       "      <th>max</th>\n",
       "      <td>28.000000</td>\n",
       "      <td>319.000000</td>\n",
       "    </tr>\n",
       "  </tbody>\n",
       "</table>\n",
       "</div>"
      ],
      "text/plain": [
       "          Char Count          Value\n",
       "count  172821.000000  172821.000000\n",
       "mean        9.087628     107.754179\n",
       "std         2.818285      39.317452\n",
       "min         2.000000       2.000000\n",
       "25%         7.000000      80.000000\n",
       "50%         9.000000     103.000000\n",
       "75%        11.000000     131.000000\n",
       "max        28.000000     319.000000"
      ]
     },
     "execution_count": 14,
     "metadata": {},
     "output_type": "execute_result"
    }
   ],
   "source": [
    "df.describe()"
   ]
  },
  {
   "cell_type": "markdown",
   "id": "8086a312-c80f-4908-9f9f-8edb33bd6a87",
   "metadata": {},
   "source": [
    "##### What is the word with the value of `319`?"
   ]
  },
  {
   "cell_type": "code",
   "execution_count": null,
   "id": "26c6e34f-f606-458f-8ae8-c371a8d74752",
   "metadata": {},
   "outputs": [],
   "source": [
    "df[df['Value'] == 319]"
   ]
  },
  {
   "cell_type": "markdown",
   "id": "e7824e48-cd48-47ff-b926-d895441f0166",
   "metadata": {},
   "source": [
    "##### What is the most common value?"
   ]
  },
  {
   "cell_type": "code",
   "execution_count": null,
   "id": "158b7cf4-a45b-4e8d-a75e-59d72e1bae15",
   "metadata": {},
   "outputs": [],
   "source": [
    "df['Value'].describe()\n",
    "df['Value'].mode()\n",
    "df['Value'].value_counts().head()"
   ]
  },
  {
   "cell_type": "markdown",
   "id": "09a1ae53-8b58-4b4c-8992-97716b4803a0",
   "metadata": {},
   "source": [
    "##### What is the shortest word with value `274`?"
   ]
  },
  {
   "cell_type": "code",
   "execution_count": 16,
   "id": "14c5f70d-dbac-4203-8949-bcbbb4a948c2",
   "metadata": {},
   "outputs": [
    {
     "data": {
      "text/html": [
       "<div>\n",
       "<style scoped>\n",
       "    .dataframe tbody tr th:only-of-type {\n",
       "        vertical-align: middle;\n",
       "    }\n",
       "\n",
       "    .dataframe tbody tr th {\n",
       "        vertical-align: top;\n",
       "    }\n",
       "\n",
       "    .dataframe thead th {\n",
       "        text-align: right;\n",
       "    }\n",
       "</style>\n",
       "<table border=\"1\" class=\"dataframe\">\n",
       "  <thead>\n",
       "    <tr style=\"text-align: right;\">\n",
       "      <th></th>\n",
       "      <th>Char Count</th>\n",
       "      <th>Value</th>\n",
       "    </tr>\n",
       "    <tr>\n",
       "      <th>Word</th>\n",
       "      <th></th>\n",
       "      <th></th>\n",
       "    </tr>\n",
       "  </thead>\n",
       "  <tbody>\n",
       "    <tr>\n",
       "      <th>overprotectivenesses</th>\n",
       "      <td>20</td>\n",
       "      <td>274</td>\n",
       "    </tr>\n",
       "  </tbody>\n",
       "</table>\n",
       "</div>"
      ],
      "text/plain": [
       "                      Char Count  Value\n",
       "Word                                   \n",
       "overprotectivenesses          20    274"
      ]
     },
     "execution_count": 16,
     "metadata": {},
     "output_type": "execute_result"
    }
   ],
   "source": [
    "df.loc[df['Value'] == 274].sort_values(by=['Char Count'], ascending=True)\n",
    "df.loc[\n",
    "    (df['Value'] == 274) &\n",
    "    (df['Char Count'] == df.loc[df['Value'] == 274, 'Char Count'].min())\n",
    "]"
   ]
  },
  {
   "cell_type": "markdown",
   "id": "8b6cde05-8040-4e40-a47a-72b92eaab500",
   "metadata": {},
   "source": [
    "##### Create a column `Ratio` which represents the 'Value Ratio' of a word"
   ]
  },
  {
   "cell_type": "code",
   "execution_count": 17,
   "id": "d3528362-d1c4-4086-ab8f-41722218f422",
   "metadata": {},
   "outputs": [],
   "source": [
    "df['Ratio'] = df['Value'] / df['Char Count']"
   ]
  },
  {
   "cell_type": "markdown",
   "id": "1bc9f714-432d-47b5-b8ad-619a0702af16",
   "metadata": {},
   "source": [
    "##### What is the maximum value of `Ratio`?"
   ]
  },
  {
   "cell_type": "code",
   "execution_count": 23,
   "id": "18887962-8fdc-43ad-adc7-9c87063439a1",
   "metadata": {},
   "outputs": [
    {
     "data": {
      "text/plain": [
       "22.5"
      ]
     },
     "execution_count": 23,
     "metadata": {},
     "output_type": "execute_result"
    }
   ],
   "source": [
    "df['Ratio'].max()"
   ]
  },
  {
   "cell_type": "markdown",
   "id": "827602c9-9686-4e12-ab47-01f30e2532ef",
   "metadata": {},
   "source": [
    "##### What word is the one with the highest `Ratio`?"
   ]
  },
  {
   "cell_type": "code",
   "execution_count": 22,
   "id": "2245e932-49b0-4216-a880-0c5f9337c013",
   "metadata": {},
   "outputs": [
    {
     "data": {
      "text/html": [
       "<div>\n",
       "<style scoped>\n",
       "    .dataframe tbody tr th:only-of-type {\n",
       "        vertical-align: middle;\n",
       "    }\n",
       "\n",
       "    .dataframe tbody tr th {\n",
       "        vertical-align: top;\n",
       "    }\n",
       "\n",
       "    .dataframe thead th {\n",
       "        text-align: right;\n",
       "    }\n",
       "</style>\n",
       "<table border=\"1\" class=\"dataframe\">\n",
       "  <thead>\n",
       "    <tr style=\"text-align: right;\">\n",
       "      <th></th>\n",
       "      <th>Char Count</th>\n",
       "      <th>Value</th>\n",
       "      <th>Ratio</th>\n",
       "    </tr>\n",
       "    <tr>\n",
       "      <th>Word</th>\n",
       "      <th></th>\n",
       "      <th></th>\n",
       "      <th></th>\n",
       "    </tr>\n",
       "  </thead>\n",
       "  <tbody>\n",
       "    <tr>\n",
       "      <th>xu</th>\n",
       "      <td>2</td>\n",
       "      <td>45</td>\n",
       "      <td>22.5</td>\n",
       "    </tr>\n",
       "  </tbody>\n",
       "</table>\n",
       "</div>"
      ],
      "text/plain": [
       "      Char Count  Value  Ratio\n",
       "Word                          \n",
       "xu             2     45   22.5"
      ]
     },
     "execution_count": 22,
     "metadata": {},
     "output_type": "execute_result"
    }
   ],
   "source": [
    "df.sort_values(by=['Ratio'], ascending = False)\n",
    "df.loc[df['Ratio'] == df['Ratio'].max()]"
   ]
  },
  {
   "cell_type": "markdown",
   "id": "93717060-60b1-4be5-a0b0-41e5a9d21fa2",
   "metadata": {},
   "source": [
    "##### How many words have a `Ratio` of `10`?"
   ]
  },
  {
   "cell_type": "code",
   "execution_count": 30,
   "id": "2940a974-3fda-4650-b782-ca2d7ff34a83",
   "metadata": {},
   "outputs": [
    {
     "data": {
      "text/plain": [
       "(2604, 3)"
      ]
     },
     "execution_count": 30,
     "metadata": {},
     "output_type": "execute_result"
    }
   ],
   "source": [
    "df.loc[df['Ratio'] == 10]\n",
    "df['Ratio'].value_counts()\n",
    "df.query(\"`Ratio` == 10\").shape"
   ]
  },
  {
   "cell_type": "markdown",
   "id": "a05b7fcb-bd53-4a46-8a97-bd7ee87d97c1",
   "metadata": {},
   "source": [
    "##### What is the maximum `Value` of all the words with a `Ratio` of `10`?"
   ]
  },
  {
   "cell_type": "code",
   "execution_count": 33,
   "id": "41859000-13ca-4831-8aab-e92e4db6e774",
   "metadata": {},
   "outputs": [
    {
     "data": {
      "text/html": [
       "<div>\n",
       "<style scoped>\n",
       "    .dataframe tbody tr th:only-of-type {\n",
       "        vertical-align: middle;\n",
       "    }\n",
       "\n",
       "    .dataframe tbody tr th {\n",
       "        vertical-align: top;\n",
       "    }\n",
       "\n",
       "    .dataframe thead th {\n",
       "        text-align: right;\n",
       "    }\n",
       "</style>\n",
       "<table border=\"1\" class=\"dataframe\">\n",
       "  <thead>\n",
       "    <tr style=\"text-align: right;\">\n",
       "      <th></th>\n",
       "      <th>Char Count</th>\n",
       "      <th>Value</th>\n",
       "      <th>Ratio</th>\n",
       "    </tr>\n",
       "    <tr>\n",
       "      <th>Word</th>\n",
       "      <th></th>\n",
       "      <th></th>\n",
       "      <th></th>\n",
       "    </tr>\n",
       "  </thead>\n",
       "  <tbody>\n",
       "    <tr>\n",
       "      <th>electrocardiographically</th>\n",
       "      <td>24</td>\n",
       "      <td>240</td>\n",
       "      <td>10.0</td>\n",
       "    </tr>\n",
       "    <tr>\n",
       "      <th>electroencephalographies</th>\n",
       "      <td>24</td>\n",
       "      <td>240</td>\n",
       "      <td>10.0</td>\n",
       "    </tr>\n",
       "    <tr>\n",
       "      <th>electroencephalographer</th>\n",
       "      <td>23</td>\n",
       "      <td>230</td>\n",
       "      <td>10.0</td>\n",
       "    </tr>\n",
       "    <tr>\n",
       "      <th>phonocardiographic</th>\n",
       "      <td>18</td>\n",
       "      <td>180</td>\n",
       "      <td>10.0</td>\n",
       "    </tr>\n",
       "    <tr>\n",
       "      <th>inconceivabilities</th>\n",
       "      <td>18</td>\n",
       "      <td>180</td>\n",
       "      <td>10.0</td>\n",
       "    </tr>\n",
       "    <tr>\n",
       "      <th>...</th>\n",
       "      <td>...</td>\n",
       "      <td>...</td>\n",
       "      <td>...</td>\n",
       "    </tr>\n",
       "    <tr>\n",
       "      <th>web</th>\n",
       "      <td>3</td>\n",
       "      <td>30</td>\n",
       "      <td>10.0</td>\n",
       "    </tr>\n",
       "    <tr>\n",
       "      <th>bug</th>\n",
       "      <td>3</td>\n",
       "      <td>30</td>\n",
       "      <td>10.0</td>\n",
       "    </tr>\n",
       "    <tr>\n",
       "      <th>elm</th>\n",
       "      <td>3</td>\n",
       "      <td>30</td>\n",
       "      <td>10.0</td>\n",
       "    </tr>\n",
       "    <tr>\n",
       "      <th>as</th>\n",
       "      <td>2</td>\n",
       "      <td>20</td>\n",
       "      <td>10.0</td>\n",
       "    </tr>\n",
       "    <tr>\n",
       "      <th>oe</th>\n",
       "      <td>2</td>\n",
       "      <td>20</td>\n",
       "      <td>10.0</td>\n",
       "    </tr>\n",
       "  </tbody>\n",
       "</table>\n",
       "<p>2604 rows × 3 columns</p>\n",
       "</div>"
      ],
      "text/plain": [
       "                          Char Count  Value  Ratio\n",
       "Word                                              \n",
       "electrocardiographically          24    240   10.0\n",
       "electroencephalographies          24    240   10.0\n",
       "electroencephalographer           23    230   10.0\n",
       "phonocardiographic                18    180   10.0\n",
       "inconceivabilities                18    180   10.0\n",
       "...                              ...    ...    ...\n",
       "web                                3     30   10.0\n",
       "bug                                3     30   10.0\n",
       "elm                                3     30   10.0\n",
       "as                                 2     20   10.0\n",
       "oe                                 2     20   10.0\n",
       "\n",
       "[2604 rows x 3 columns]"
      ]
     },
     "execution_count": 33,
     "metadata": {},
     "output_type": "execute_result"
    }
   ],
   "source": [
    "df.loc[df['Ratio'] == 10].sort_values(by=['Value'], ascending=False)\n",
    "df.loc[df['Ratio'] == 10,'Value'].max()"
   ]
  },
  {
   "cell_type": "markdown",
   "id": "7bfda46f-ad7b-45f1-911f-78b7936e1308",
   "metadata": {},
   "source": [
    "##### Of those words with a `Value` of `260`, what is the lowest `Char Count` found?"
   ]
  },
  {
   "cell_type": "code",
   "execution_count": 36,
   "id": "5db0ba60-0382-4f86-a744-12df9ffaaabf",
   "metadata": {},
   "outputs": [
    {
     "data": {
      "text/html": [
       "<div>\n",
       "<style scoped>\n",
       "    .dataframe tbody tr th:only-of-type {\n",
       "        vertical-align: middle;\n",
       "    }\n",
       "\n",
       "    .dataframe tbody tr th {\n",
       "        vertical-align: top;\n",
       "    }\n",
       "\n",
       "    .dataframe thead th {\n",
       "        text-align: right;\n",
       "    }\n",
       "</style>\n",
       "<table border=\"1\" class=\"dataframe\">\n",
       "  <thead>\n",
       "    <tr style=\"text-align: right;\">\n",
       "      <th></th>\n",
       "      <th>Char Count</th>\n",
       "      <th>Value</th>\n",
       "      <th>Ratio</th>\n",
       "    </tr>\n",
       "    <tr>\n",
       "      <th>Word</th>\n",
       "      <th></th>\n",
       "      <th></th>\n",
       "      <th></th>\n",
       "    </tr>\n",
       "  </thead>\n",
       "  <tbody>\n",
       "    <tr>\n",
       "      <th>aardwolves</th>\n",
       "      <td>10</td>\n",
       "      <td>120</td>\n",
       "      <td>12.000000</td>\n",
       "    </tr>\n",
       "    <tr>\n",
       "      <th>abacterial</th>\n",
       "      <td>10</td>\n",
       "      <td>72</td>\n",
       "      <td>7.200000</td>\n",
       "    </tr>\n",
       "    <tr>\n",
       "      <th>abandoners</th>\n",
       "      <td>10</td>\n",
       "      <td>93</td>\n",
       "      <td>9.300000</td>\n",
       "    </tr>\n",
       "    <tr>\n",
       "      <th>abandoning</th>\n",
       "      <td>10</td>\n",
       "      <td>81</td>\n",
       "      <td>8.100000</td>\n",
       "    </tr>\n",
       "    <tr>\n",
       "      <th>abandonment</th>\n",
       "      <td>11</td>\n",
       "      <td>103</td>\n",
       "      <td>9.363636</td>\n",
       "    </tr>\n",
       "    <tr>\n",
       "      <th>...</th>\n",
       "      <td>...</td>\n",
       "      <td>...</td>\n",
       "      <td>...</td>\n",
       "    </tr>\n",
       "    <tr>\n",
       "      <th>zygomorphies</th>\n",
       "      <td>12</td>\n",
       "      <td>176</td>\n",
       "      <td>14.666667</td>\n",
       "    </tr>\n",
       "    <tr>\n",
       "      <th>zygomorphy</th>\n",
       "      <td>10</td>\n",
       "      <td>168</td>\n",
       "      <td>16.800000</td>\n",
       "    </tr>\n",
       "    <tr>\n",
       "      <th>zygosities</th>\n",
       "      <td>10</td>\n",
       "      <td>154</td>\n",
       "      <td>15.400000</td>\n",
       "    </tr>\n",
       "    <tr>\n",
       "      <th>zygospores</th>\n",
       "      <td>10</td>\n",
       "      <td>165</td>\n",
       "      <td>16.500000</td>\n",
       "    </tr>\n",
       "    <tr>\n",
       "      <th>zymologies</th>\n",
       "      <td>10</td>\n",
       "      <td>146</td>\n",
       "      <td>14.600000</td>\n",
       "    </tr>\n",
       "  </tbody>\n",
       "</table>\n",
       "<p>67582 rows × 3 columns</p>\n",
       "</div>"
      ],
      "text/plain": [
       "              Char Count  Value      Ratio\n",
       "Word                                      \n",
       "aardwolves            10    120  12.000000\n",
       "abacterial            10     72   7.200000\n",
       "abandoners            10     93   9.300000\n",
       "abandoning            10     81   8.100000\n",
       "abandonment           11    103   9.363636\n",
       "...                  ...    ...        ...\n",
       "zygomorphies          12    176  14.666667\n",
       "zygomorphy            10    168  16.800000\n",
       "zygosities            10    154  15.400000\n",
       "zygospores            10    165  16.500000\n",
       "zymologies            10    146  14.600000\n",
       "\n",
       "[67582 rows x 3 columns]"
      ]
     },
     "execution_count": 36,
     "metadata": {},
     "output_type": "execute_result"
    }
   ],
   "source": [
    "df.loc[df['Value'] == 260].sort_values(by=['Char Count'], ascending=True)\n",
    "mean_char_count = df['Char Count'].mean()\n",
    "df.query(\"`Char Count` > @mean_char_count\")"
   ]
  },
  {
   "cell_type": "markdown",
   "id": "aaef4105-f4ce-49dc-8dd5-b600ceb27d90",
   "metadata": {},
   "source": [
    "##### Based on the previous task, what word is it?"
   ]
  },
  {
   "cell_type": "code",
   "execution_count": null,
   "id": "97a3a9f6-7eb8-4537-b48c-021a260989ab",
   "metadata": {},
   "outputs": [],
   "source": []
  }
 ],
 "metadata": {
  "kernelspec": {
   "display_name": "Python 3 (ipykernel)",
   "language": "python",
   "name": "python3"
  },
  "language_info": {
   "codemirror_mode": {
    "name": "ipython",
    "version": 3
   },
   "file_extension": ".py",
   "mimetype": "text/x-python",
   "name": "python",
   "nbconvert_exporter": "python",
   "pygments_lexer": "ipython3",
   "version": "3.11.0"
  }
 },
 "nbformat": 4,
 "nbformat_minor": 5
}
